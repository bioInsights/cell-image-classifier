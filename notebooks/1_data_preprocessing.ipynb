{
 "cells": [
  {
   "cell_type": "markdown",
   "id": "e9923856",
   "metadata": {},
   "source": [
    "# 1. Data Preprocessing\n",
    "Prepare the dataset: split into training and testing sets."
   ]
  },
  {
   "cell_type": "code",
   "execution_count": 1,
   "id": "8bc6d919",
   "metadata": {},
   "outputs": [
    {
     "name": "stdout",
     "output_type": "stream",
     "text": [
      "Total training images: 292\n",
      "Total testing images: 74\n"
     ]
    }
   ],
   "source": [
    "\n",
    "import os\n",
    "import shutil\n",
    "from sklearn.model_selection import train_test_split\n",
    "from glob import glob\n",
    "\n",
    "# Paths\n",
    "raw_data_path = '../data/raw/'\n",
    "train_path = '../data/train/'\n",
    "test_path = '../data/test/'\n",
    "\n",
    "os.makedirs(train_path, exist_ok=True)\n",
    "os.makedirs(test_path, exist_ok=True)\n",
    "\n",
    "image_paths = glob(raw_data_path + '/*.jpg')\n",
    "\n",
    "# Train-test split\n",
    "train_paths, test_paths = train_test_split(image_paths, test_size=0.2, random_state=42)\n",
    "\n",
    "# Move images\n",
    "for path in train_paths:\n",
    "    shutil.copy(path, train_path)\n",
    "for path in test_paths:\n",
    "    shutil.copy(path, test_path)\n",
    "\n",
    "print(f\"Total training images: {len(train_paths)}\")\n",
    "print(f\"Total testing images: {len(test_paths)}\")\n"
   ]
  }
 ],
 "metadata": {
  "kernelspec": {
   "display_name": "base",
   "language": "python",
   "name": "python3"
  },
  "language_info": {
   "codemirror_mode": {
    "name": "ipython",
    "version": 3
   },
   "file_extension": ".py",
   "mimetype": "text/x-python",
   "name": "python",
   "nbconvert_exporter": "python",
   "pygments_lexer": "ipython3",
   "version": "3.9.7"
  }
 },
 "nbformat": 4,
 "nbformat_minor": 5
}
